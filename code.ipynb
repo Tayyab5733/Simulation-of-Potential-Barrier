{
 "cells": [
  {
   "cell_type": "markdown",
   "metadata": {},
   "source": [
    "## Barier Tunneling in Quantum Mechnaics"
   ]
  },
  {
   "cell_type": "markdown",
   "metadata": {},
   "source": [
    "#### Setting up Iterative Equations"
   ]
  },
  {
   "cell_type": "markdown",
   "metadata": {},
   "source": [
    "Before going to simulate this quantum system, we first need to discuss the physics behind it. Lets start from 1D-time dependent Schrodinger Equation \n",
    "$$\\iota \\hbar \\frac{\\partial \\Psi}{\\partial t } = - \\frac{\\hbar^{2}}{2m}\\frac{\\partial^{2}\\Psi}{\\partial x^{2}}+ V\\Psi(x)$$\n",
    "which is a partial separable differential equation and can be separated as\n",
    "$$\n",
    "\\Psi(x,t) = \\psi(x) T(t)\n",
    "$$\n",
    "where\n",
    "$$\n",
    "-\\frac{\\hbar^{2}}{2m} \\frac{\\partial^{2}\\psi}{\\partial x^{2}}+V\\psi = E\\psi\n",
    "$$\n",
    "represents time independent Schrodinger equation. $E$ is energy here which is constant. One should have an iterative form of this equation to simulate it. There are also different approaches but the one that I will use here is finite differences method. The space dependent wave function $\\psi$ can be brake into small components $\\psi_{1},\\psi_{2},...,\\psi_{N}$, where N is finite. Each component is separated by $\\Delta x $. We can define the derivate of the middle component using the two components which are jsut before and after that, such as\n",
    "$$\n",
    "\\frac{\\partial \\psi_{i}}{\\partial x} = \\frac{\\psi_{i+1} - \\psi_{i-1}}{2 \\Delta x}\n",
    "$$\n",
    "But we have a second derivative in our time independent Schrodinger equation, so\n",
    "$$\n",
    "\\frac{\\partial^{2} \\psi_{i}}{\\partial x^{2}} = \\frac{\\psi^{'}_{i+\\frac{1}{2}}-\\psi^{'}_{i-\\frac{1}{2}}}{\\Delta x}\n",
    "$$\n",
    "or \n",
    "$$\n",
    "\\frac{\\partial^{2} \\psi_{i}}{\\partial x^{2}} = \\frac{\\psi_{i+1}-2\\psi_{i}+\\psi_{i-1}}{\\Delta x^{2}}\n",
    "$$\n",
    "We can plugg in this expression in time independent Schrodinger equation, \n",
    "$$\n",
    "-\\frac{\\hbar^{2}}{2m\\Delta x^{2}}\\left(\\psi_{i+1}-2\\psi_{i}+\\psi_{i-1}\\right) + V_{i}\\psi_{i} = E \\psi_{i}\n",
    "$$\n",
    "where $V_{i}$ is the individual potential at each point $i$. It can also be written as\n",
    "$$\n",
    "\\frac{\\hbar^{2}}{2m\\Delta x^{2}}\\left(\\psi_{i+1}+\\psi_{i-1}\\right) + \\left(\\frac{\\hbar^{2}}{2m\\Delta x^{2}}+V_{i}\\right) \\psi_{i} = E\\psi_{i}\n",
    "$$\n",
    "Suppose we have totall 5 splitted components of $\\psi$ as $(\\psi_{0},\\psi_{1},\\psi_{2},\\psi_{3},\\psi_{4})$. From these components, two are set $0$ to defien a boundary condition such that\n",
    "$$\n",
    "\\psi_{0} = \\psi_{4} = 0\n",
    "$$\n",
    "So, we are left with three unknowns $(\\psi_{1},\\psi_{2},\\psi_{3})$, \n",
    "$$\n",
    "\\frac{\\hbar^{2}}{2m\\Delta x^{2}}\\psi_{0} + \\left(\\frac{\\hbar^{2}}{m\\Delta x^{2}}+V_{1}\\right) \\psi_{1} - \\frac{\\hbar^{2}}{2m\\Delta x^{2}}\\psi_{2} = E\\psi_{1}\n",
    "$$\n",
    "$$\n",
    "\\frac{\\hbar^{2}}{2m\\Delta x^{2}}\\psi_{1} + \\left(\\frac{\\hbar^{2}}{m\\Delta x^{2}}+V_{2}\\right) \\psi_{2} - \\frac{\\hbar^{2}}{2m\\Delta x^{2}}\\psi_{3} = E\\psi_{2}\n",
    "$$\n",
    "$$\n",
    "\\frac{\\hbar^{2}}{2m\\Delta x^{2}}\\psi_{2} + \\left(\\frac{\\hbar^{2}}{m\\Delta x^{2}}+V_{3}\\right) \\psi_{3} - \\frac{\\hbar^{2}}{2m\\Delta x^{2}}\\psi_{4} = E\\psi_{3}\n",
    "$$\n",
    "The contribution from $\\psi_{0}$ and $\\psi_{4}$ terms in first and third equation is zero since $\\psi_{0}=\\psi_{4}=0$."
   ]
  },
  {
   "cell_type": "markdown",
   "metadata": {},
   "source": [
    "#### Matrix Representation"
   ]
  },
  {
   "cell_type": "markdown",
   "metadata": {},
   "source": [
    "The above mentioned equations can be written in matrix as\n",
    "$$\n",
    "\\frac{\\hbar^{2}}{2m\\Delta x^{2}}\\begin{pmatrix}\n",
    "-2-kV_{1} & 1 & 0 \\\\\n",
    "1 & -2-kV_{2} & 1 \\\\ \n",
    "0 & 1 & -2-kV_{3}\n",
    "\\end{pmatrix}\n",
    "\\begin{pmatrix}\n",
    "\\psi_{1} \\\\\n",
    "\\psi_{2} \\\\\n",
    "\\psi_{3}\n",
    "\\end{pmatrix} = E \\begin{pmatrix}\n",
    "\\psi_{1} \\\\\n",
    "\\psi_{2} \\\\\n",
    "\\psi_{3}\n",
    "\\end{pmatrix}\n",
    "$$\n",
    "where \n",
    "$$\n",
    "k = \\frac{2m\\Delta x^{2}}{\\hbar^{2}}\n",
    "$$\n",
    "We have now brought to a clear picture. We can see it becomes an eigenvalue problem, where E represents the eiggenvalue."
   ]
  },
  {
   "cell_type": "markdown",
   "metadata": {},
   "source": [
    "#### What We Gonna Do Next ?"
   ]
  },
  {
   "cell_type": "markdown",
   "metadata": {},
   "source": [
    "Upon solving the above eigenvalue problem, we can find different eigenstates $ \\left(\\psi_{n}(x)\\right)$ corressponding to different eigenvalues$E_{n}$. We can use superposition to construct a wave vector such that\n",
    "$$\n",
    "\\Psi(x,t) = \\sum_{n} a_{n}\\psi_{n}(x)e^{-\\frac{\\iota E_{m} t }{\\hbar}}\n",
    "$$\n",
    "where the weights/constants are,\n",
    "$$\n",
    "a_{n} = \\int_{-\\infty}^{\\infty} \\psi_{n}^{*}(x)\\Psi(x,t_{0}) dx\n",
    "$$\n",
    "where $t_{0}$ is some initial time. \\\\\n",
    "We'll start with an iniitial wave function\n",
    "$$\n",
    "\\Psi(x,0) = e^{-\\frac{\\left(x+x_{0}\\right)^{2}}{\\sigma}} e^{\\iota p(x+x_{0})}\n",
    "$$\n",
    "and \n",
    "$$\n",
    "V_{0} = \\frac{p^{2}}{2m}\n",
    "$$\n",
    "which defines the height of the barrier. We'll set the values during simulation."
   ]
  },
  {
   "cell_type": "markdown",
   "metadata": {},
   "source": [
    "#### Imports"
   ]
  },
  {
   "cell_type": "code",
   "execution_count": 1,
   "metadata": {},
   "outputs": [
    {
     "data": {
      "text/html": [
       "<div id=\"glowscript\" class=\"glowscript\"></div>"
      ],
      "text/plain": [
       "<IPython.core.display.HTML object>"
      ]
     },
     "metadata": {},
     "output_type": "display_data"
    },
    {
     "data": {
      "application/javascript": [
       "if (typeof Jupyter !== \"undefined\") { window.__context = { glowscript_container: $(\"#glowscript\").removeAttr(\"id\")};}else{ element.textContent = ' ';}"
      ],
      "text/plain": [
       "<IPython.core.display.Javascript object>"
      ]
     },
     "metadata": {},
     "output_type": "display_data"
    }
   ],
   "source": [
    "import numpy as np\n",
    "import matplotlib.pyplot as plt\n",
    "import vpython\n",
    "from vpython import rate, gcurve, graph, canvas, color"
   ]
  },
  {
   "cell_type": "markdown",
   "metadata": {},
   "source": [
    "#### Variable and Plotting Barrier"
   ]
  },
  {
   "cell_type": "code",
   "execution_count": 2,
   "metadata": {},
   "outputs": [
    {
     "data": {
      "text/plain": [
       "[<matplotlib.lines.Line2D at 0x23b80296010>]"
      ]
     },
     "execution_count": 2,
     "metadata": {},
     "output_type": "execute_result"
    },
    {
     "data": {
      "image/png": "[encoded data removed]",
      "text/plain": [
       "<Figure size 640x480 with 1 Axes>"
      ]
     },
     "metadata": {},
     "output_type": "display_data"
    }
   ],
   "source": [
    "m = 1\n",
    "hbar = 1\n",
    "xmin = -6.5\n",
    "xmax = 6.5\n",
    "N = 1000\n",
    "x = np.linspace(xmin,xmax,N+1)\n",
    "dx = x[1]-x[0]\n",
    "p = 40\n",
    "V0 = p**2/2*m\n",
    "sig = 0.15\n",
    "x0 = 2\n",
    "V = 0*x\n",
    "for i in range (len(V)):\n",
    "    if x[i]>0 and x[i]<0.5:\n",
    "        V[i] = V0 \n",
    "plt.plot(x,V)"
   ]
  },
  {
   "cell_type": "markdown",
   "metadata": {},
   "source": [
    "####  Initial Wavefunction and Normalization"
   ]
  },
  {
   "cell_type": "code",
   "execution_count": 3,
   "metadata": {},
   "outputs": [
    {
     "data": {
      "text/plain": [
       "[<matplotlib.lines.Line2D at 0x23b80d43c90>]"
      ]
     },
     "execution_count": 3,
     "metadata": {},
     "output_type": "execute_result"
    },
    {
     "data": {
      "image/png": "[encoded data removed]",
      "text/plain": [
       "<Figure size 640x480 with 1 Axes>"
      ]
     },
     "metadata": {},
     "output_type": "display_data"
    }
   ],
   "source": [
    "Psi0=np.exp(-(x[1:-1]+x0)**2/sig**2)*np.exp(1j*p*(x[1:-1]+x0))\n",
    "A = np.sum(np.abs(Psi0)**2*dx)\n",
    "Psi0 = Psi0/np.sqrt(A)\n",
    "plt.plot(x[1:-1],np.abs(Psi0))"
   ]
  },
  {
   "cell_type": "markdown",
   "metadata": {},
   "source": [
    "#### Hamiltonian Matrix"
   ]
  },
  {
   "cell_type": "code",
   "execution_count": 4,
   "metadata": {},
   "outputs": [],
   "source": [
    "H = (hbar**2/(m*dx**2))*np.diag(np.ones(N-1))+V[1:-1]*np.diag(np.ones(N-1))+ (-hbar**2/(2*m*dx**2))*np.diag(np.ones(N-2),1)+ (-hbar**2/(2*m*dx**2))*np.diag(np.ones(N-2),-1)\n",
    "# print(H.shape)"
   ]
  },
  {
   "cell_type": "markdown",
   "metadata": {},
   "source": [
    "#### Eigenvalues and Eigenvectors"
   ]
  },
  {
   "cell_type": "code",
   "execution_count": 5,
   "metadata": {},
   "outputs": [
    {
     "data": {
      "text/plain": [
       "[<matplotlib.lines.Line2D at 0x23b80dbfd10>]"
      ]
     },
     "execution_count": 5,
     "metadata": {},
     "output_type": "execute_result"
    },
    {
     "data": {
      "image/png": "[encoded data removed]",
      "text/plain": [
       "<Figure size 640x480 with 1 Axes>"
      ]
     },
     "metadata": {},
     "output_type": "display_data"
    }
   ],
   "source": [
    "E,psi = np.linalg.eigh(H)\n",
    "psi = psi.T\n",
    "A = np.sum(np.abs(psi[0])**2*dx)\n",
    "psi = psi/np.sqrt(A) \n",
    "plt.plot(x[1:-1],psi[0])\n",
    "plt.plot(x[1:-1],psi[1])\n",
    "plt.plot(x[1:-1],psi[2])"
   ]
  },
  {
   "cell_type": "code",
   "execution_count": 10,
   "metadata": {},
   "outputs": [
    {
     "data": {
      "text/html": [
       "<div id=\"glowscript\" class=\"glowscript\"></div>"
      ],
      "text/plain": [
       "<IPython.core.display.HTML object>"
      ]
     },
     "metadata": {},
     "output_type": "display_data"
    },
    {
     "data": {
      "application/javascript": [
       "if (typeof Jupyter !== \"undefined\") { window.__context = { glowscript_container: $(\"#glowscript\").removeAttr(\"id\")};}else{ element.textContent = ' ';}"
      ],
      "text/plain": [
       "<IPython.core.display.Javascript object>"
      ]
     },
     "metadata": {},
     "output_type": "display_data"
    }
   ],
   "source": [
    "from vpython import*\n",
    "from vpython import rate, gcurve, graph, canvas, color\n",
    "scene = canvas()\n",
    "g1 = graph(xtitle=\"x\",ytitle=\"Amplitude\",width=500, height=250)\n",
    "f1 = gcurve(color=color.black)\n",
    "fV = gcurve(color=color.red)\n",
    "\n",
    "for i in range(len(V)):\n",
    "    fV.plot(x[i],0.003*V[i])\n",
    "\n",
    "c = 0*Psi0\n",
    "for i in range(len(c)):\n",
    "    c[i] = np.sum(np.conj(psi[i])*Psi0*dx)\n",
    "\n",
    "t = 0\n",
    "dt = 0.001\n",
    "while t<0.5:\n",
    "    rate(20)\n",
    "    Psi = 0*psi[0]\n",
    "    fdata = []\n",
    "    for i in range(len(c)):\n",
    "        Psi = Psi + c[i]*psi[i]*np.exp(-1j*E[i]*t/hbar)\n",
    "    for i in range(len(Psi)):\n",
    "        fdata = fdata +[[x[i],np.abs(Psi[i])]]\n",
    "    f1.data = fdata\n",
    "    t = t + dt"
   ]
  },
  {
   "cell_type": "code",
   "execution_count": null,
   "metadata": {},
   "outputs": [],
   "source": []
  }
 ],
 "metadata": {
  "kernelspec": {
   "display_name": "Python 3 (ipykernel)",
   "language": "python",
   "name": "python3"
  },
  "language_info": {
   "codemirror_mode": {
    "name": "ipython",
    "version": 3
   },
   "file_extension": ".py",
   "mimetype": "text/x-python",
   "name": "python",
   "nbconvert_exporter": "python",
   "pygments_lexer": "ipython3",
   "version": "3.11.7"
  }
 },
 "nbformat": 4,
 "nbformat_minor": 4
}
